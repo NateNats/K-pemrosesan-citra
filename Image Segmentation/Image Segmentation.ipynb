{
 "cells": [
  {
   "cell_type": "code",
   "id": "initial_id",
   "metadata": {
    "collapsed": true,
    "ExecuteTime": {
     "end_time": "2024-10-10T02:25:50.145734Z",
     "start_time": "2024-10-10T02:25:50.139321Z"
    }
   },
   "source": [
    "from numpy.ma.core import shape\n",
    "import matplotlib.pyplot as plt\n",
    "\n",
    "from PIL import Image\n",
    "\n",
    "\n",
    "def RGBtoCMYK(image):\n",
    "    width, height = image.size\n",
    "    image = image.convert('RGB')\n",
    "    new_image = Image.new(\"CMYK\", (width, height))\n",
    "    \n",
    "    #melakukan perulangan agar setiap pixel x dan y bisa diakses\n",
    "    for x in range(width):\n",
    "        for y in range(height):\n",
    "            r, g, b = image.getpixel((x, y))\n",
    "            \n",
    "            #normalisasi nilai agar menjadi antara 0 dan 1\n",
    "            if r > 1.0 or g > 1.0 or b > 1.0:\n",
    "                R = r / 255\n",
    "                G = g / 255\n",
    "                B = b / 255\n",
    "            else:\n",
    "                R, G, B = r, g, b\n",
    "            \n",
    "            #mendapatkan nilai key atau hitam yang dinormalisasikan\n",
    "            K = 1 - max(R, G, B)\n",
    "\n",
    "            if K == 1:\n",
    "                C, M, Y = 0, 0, 0\n",
    "            else:\n",
    "                C = (1 - R - K) / (1 - K)\n",
    "                M = (1 - G - K) / (1 - K)\n",
    "                Y = (1 - B - K) / (1 - K)\n",
    "            \n",
    "            #konversi ke rentang 0 sampai 255 untuk gambar CMYK\n",
    "            C = int(C * 255) \n",
    "            M = int(M * 255)\n",
    "            Y = int(Y * 255)\n",
    "            K = int(K * 255)\n",
    "            \n",
    "            #memasukan nilai CMYK ke dalam gambar\n",
    "            new_image.putpixel((x, y), (C, M, Y, K))\n",
    "    \n",
    "    #mengembalikan hasil ke dalam sebuah file\n",
    "    return new_image.save(\"result.jpeg\")\n",
    "    "
   ],
   "outputs": [],
   "execution_count": 21
  },
  {
   "metadata": {
    "ExecuteTime": {
     "end_time": "2024-10-10T02:26:17.370121Z",
     "start_time": "2024-10-10T02:26:16.178189Z"
    }
   },
   "cell_type": "code",
   "source": "RGBtoCMYK(Image.open(\"/home/nicolaus/DataspellProjects/Image_Processing/daun.jpeg\"))",
   "id": "7fe01702f9bb38f4",
   "outputs": [],
   "execution_count": 23
  },
  {
   "metadata": {},
   "cell_type": "code",
   "outputs": [],
   "execution_count": null,
   "source": "",
   "id": "c0a99dcabcc85f6"
  }
 ],
 "metadata": {
  "kernelspec": {
   "display_name": "Python 3",
   "language": "python",
   "name": "python3"
  },
  "language_info": {
   "codemirror_mode": {
    "name": "ipython",
    "version": 2
   },
   "file_extension": ".py",
   "mimetype": "text/x-python",
   "name": "python",
   "nbconvert_exporter": "python",
   "pygments_lexer": "ipython2",
   "version": "2.7.6"
  }
 },
 "nbformat": 4,
 "nbformat_minor": 5
}
