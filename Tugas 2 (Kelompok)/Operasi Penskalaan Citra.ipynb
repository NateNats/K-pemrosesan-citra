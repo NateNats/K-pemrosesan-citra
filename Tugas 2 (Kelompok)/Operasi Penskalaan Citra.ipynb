{
 "cells": [
  {
   "cell_type": "code",
   "id": "initial_id",
   "metadata": {
    "collapsed": true,
    "ExecuteTime": {
     "end_time": "2024-09-26T01:16:59.394698Z",
     "start_time": "2024-09-26T01:16:59.292094Z"
    }
   },
   "source": [
    "from PIL import Image\n",
    "\n",
    "def nearest_neighbor_interpolation(img, scale, hasil):\n",
    "    # Membuka gambar\n",
    "    gambar = Image.open(img)\n",
    "    pixel = gambar.load()\n",
    "    \n",
    "    # Mendapatkan ukuran gambar\n",
    "    x, y = gambar.size\n",
    "    \n",
    "    # Menghitung ukuran gambar yang baru\n",
    "    new_x = round(x * scale)\n",
    "    new_y = round(y * scale)\n",
    "    \n",
    "    # Membuat gambar baru\n",
    "    new_image = Image.new(\"RGB\", (new_x, new_y))\n",
    "    new_pixel = new_image.load()\n",
    "    \n",
    "    for i in range(new_x - 1):\n",
    "        for j in range(new_y - 1):\n",
    "            \n",
    "            # Menghitung posisi pixel pada gambar lama\n",
    "            pixel_x = round(i / scale)\n",
    "            pixel_y = round(j / scale)\n",
    "            new_pixel[i, j] = pixel[pixel_x, pixel_y]\n",
    "    new_image.save(hasil)"
   ],
   "outputs": [],
   "execution_count": 1
  },
  {
   "metadata": {
    "ExecuteTime": {
     "end_time": "2024-09-26T01:17:40.048569Z",
     "start_time": "2024-09-26T01:17:23.559005Z"
    }
   },
   "cell_type": "code",
   "source": [
    "# Menjalankan fungsi tersebut, dengan argumen gambar 1.jpeg, skala yang diinginkan 2 dan hasilnya akan menjadi gambar_nearest.jpeg\n",
    "nearest_neighbor_interpolation(\"gambar 1.jpeg\", 2, \"gambar_nearest.jpeg\")"
   ],
   "id": "a1eb12c3c078c4a",
   "outputs": [
    {
     "name": "stdout",
     "output_type": "stream",
     "text": [
      "<PixelAccess object at 0x731409740db0>\n"
     ]
    }
   ],
   "execution_count": 2
  },
  {
   "metadata": {
    "ExecuteTime": {
     "end_time": "2024-09-25T11:16:52.368904Z",
     "start_time": "2024-09-25T11:16:52.364528Z"
    }
   },
   "cell_type": "code",
   "source": "print(f\"Ukuran gambar asli: {Image.open('gambar 1.jpeg').size}\")",
   "id": "a91f9a2c7f9b54b4",
   "outputs": [
    {
     "name": "stdout",
     "output_type": "stream",
     "text": [
      "Ukuran gambar asli: (3000, 4000)\n"
     ]
    }
   ],
   "execution_count": 15
  },
  {
   "metadata": {
    "ExecuteTime": {
     "end_time": "2024-09-25T11:16:54.077312Z",
     "start_time": "2024-09-25T11:16:54.072597Z"
    }
   },
   "cell_type": "code",
   "source": "print(f\"Ukuran gambar hasil: {Image.open('gambar_nearest.jpeg').size}\")",
   "id": "3a1fabe81d1b2d66",
   "outputs": [
    {
     "name": "stdout",
     "output_type": "stream",
     "text": [
      "Ukuran gambar hasil: (6000, 8000)\n"
     ]
    }
   ],
   "execution_count": 16
  }
 ],
 "metadata": {
  "kernelspec": {
   "display_name": "Python 3",
   "language": "python",
   "name": "python3"
  },
  "language_info": {
   "codemirror_mode": {
    "name": "ipython",
    "version": 2
   },
   "file_extension": ".py",
   "mimetype": "text/x-python",
   "name": "python",
   "nbconvert_exporter": "python",
   "pygments_lexer": "ipython2",
   "version": "2.7.6"
  }
 },
 "nbformat": 4,
 "nbformat_minor": 5
}
