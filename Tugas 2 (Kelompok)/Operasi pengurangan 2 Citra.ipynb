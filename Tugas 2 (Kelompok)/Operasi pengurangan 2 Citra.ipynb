{
 "cells": [
  {
   "metadata": {
    "ExecuteTime": {
     "end_time": "2024-09-26T02:22:03.508256Z",
     "start_time": "2024-09-26T02:22:03.503261Z"
    }
   },
   "cell_type": "code",
   "source": [
    "from PIL import Image\n",
    "\n",
    "def clipping(value1, value2):\n",
    "    # Membatasi nilai pixel\n",
    "    total = value1 - value2\n",
    "    if total < 0:\n",
    "        return 0\n",
    "    elif total > 255:\n",
    "        return 255\n",
    "    return total\n",
    "\n",
    "def subtraction_image(gambar1, gambar2, hasil):\n",
    "    # Membaca kedua gambar\n",
    "    img1 = Image.open(gambar1)\n",
    "    pixel1 = img1.load()\n",
    "    img2 = Image.open(gambar2)\n",
    "    pixel2 = img2.load()\n",
    "    \n",
    "    # Mengecek ukuran kedua gambar\n",
    "    if img1.size != img2.size:\n",
    "        print(\"Ukuran kedua gambar tidak sama.\")\n",
    "        return\n",
    "    \n",
    "    else:\n",
    "        # Mengambil ukuran gambar\n",
    "        x, y = img1.size[0], img1.size[1]\n",
    "        \n",
    "        # Membuat citra baru dengan format RGB dan ukuran sesuai dengan gambar 1 dan gambar 2\n",
    "        image_result = Image.new(\"RGB\", (x, y))\n",
    "        pixel_result = image_result.load()\n",
    "        \n",
    "        # Operasi pengurangan citra\n",
    "        for i in range(x):\n",
    "            for j in range(y):\n",
    "                r = clipping(pixel1[i, j][0], pixel2[i, j][0])\n",
    "                g = clipping(pixel1[i, j][1], pixel2[i, j][1])\n",
    "                b = clipping(pixel1[i, j][2], pixel2[i, j][2])\n",
    "                pixel_result[i, j] = (r, g, b)\n",
    "                \n",
    "        image_result.save(hasil)"
   ],
   "id": "65cb6edee6799a98",
   "outputs": [],
   "execution_count": 3
  },
  {
   "metadata": {
    "ExecuteTime": {
     "end_time": "2024-09-26T02:21:53.573559Z",
     "start_time": "2024-09-26T02:21:40.357446Z"
    }
   },
   "cell_type": "code",
   "source": [
    "# Menjalankan fungsi subtraction_image dengan argumen gambar 1 dan gambar 2, lalu hasilnya akan menjadi gambar hasil_pengurangan.jpeg\n",
    "subtraction_image(\"gambar 1.jpeg\", \"gambar 2.jpeg\", \"hasil_pengurangan.jpeg\")"
   ],
   "id": "797032ca4ee5df4b",
   "outputs": [
    {
     "name": "stdout",
     "output_type": "stream",
     "text": [
      "<PixelAccess object at 0x7c0500070db0>\n"
     ]
    }
   ],
   "execution_count": 2
  },
  {
   "metadata": {},
   "cell_type": "code",
   "outputs": [],
   "execution_count": null,
   "source": "",
   "id": "a0c223f7758463a9"
  }
 ],
 "metadata": {
  "kernelspec": {
   "display_name": "Python 3",
   "language": "python",
   "name": "python3"
  },
  "language_info": {
   "codemirror_mode": {
    "name": "ipython",
    "version": 2
   },
   "file_extension": ".py",
   "mimetype": "text/x-python",
   "name": "python",
   "nbconvert_exporter": "python",
   "pygments_lexer": "ipython2",
   "version": "2.7.6"
  }
 },
 "nbformat": 4,
 "nbformat_minor": 5
}
